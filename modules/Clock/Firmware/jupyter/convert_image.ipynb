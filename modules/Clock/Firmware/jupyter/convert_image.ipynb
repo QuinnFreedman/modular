{
 "cells": [
  {
   "cell_type": "code",
   "execution_count": 7,
   "id": "24005b9b-7c04-4588-822d-d31c83bf05f0",
   "metadata": {},
   "outputs": [],
   "source": [
    "from PIL import Image"
   ]
  },
  {
   "cell_type": "code",
   "execution_count": 22,
   "id": "78385b47-e673-46e7-ab60-d16baf3d81d0",
   "metadata": {},
   "outputs": [
    {
     "data": {
      "image/png": "[encoded data removed]",
      "text/plain": [
       "<PIL.Image.Image image mode=L size=19x8>"
      ]
     },
     "execution_count": 22,
     "metadata": {},
     "output_type": "execute_result"
    }
   ],
   "source": [
    "img = Image.open(\"bpm_text.png\").convert('L')\n",
    "img"
   ]
  },
  {
   "cell_type": "code",
   "execution_count": 23,
   "id": "99f047c4-147a-4dee-baba-9158cce5577a",
   "metadata": {},
   "outputs": [],
   "source": [
    "assert img.height % 8 == 0"
   ]
  },
  {
   "cell_type": "code",
   "execution_count": 24,
   "id": "a767b681-874c-4a22-ac2e-94f105783e13",
   "metadata": {},
   "outputs": [
    {
     "data": {
      "text/plain": [
       "255"
      ]
     },
     "execution_count": 24,
     "metadata": {},
     "output_type": "execute_result"
    }
   ],
   "source": [
    "img.getpixel((0,0))"
   ]
  },
  {
   "cell_type": "code",
   "execution_count": 25,
   "id": "75d8502a-f7c6-4b69-b900-afc6a0463fb4",
   "metadata": {},
   "outputs": [
    {
     "data": {
      "text/plain": [
       "['0b11111111',\n",
       " '0b10001001',\n",
       " '0b10001001',\n",
       " '0b10001001',\n",
       " '0b1110110',\n",
       " '0b0',\n",
       " '0b0',\n",
       " '0b11111111',\n",
       " '0b1001',\n",
       " '0b1001',\n",
       " '0b1001',\n",
       " '0b110',\n",
       " '0b0',\n",
       " '0b0',\n",
       " '0b11111111',\n",
       " '0b10',\n",
       " '0b1100',\n",
       " '0b10',\n",
       " '0b11111111']"
      ]
     },
     "execution_count": 25,
     "metadata": {},
     "output_type": "execute_result"
    }
   ],
   "source": [
    "result = []\n",
    "for col in range(img.width):\n",
    "    byte = 0\n",
    "    bit_idx = 0\n",
    "    for row in range(img.height):\n",
    "        bit = int(img.getpixel((col,row)) != 0)\n",
    "        byte |= bit << bit_idx\n",
    "        bit_idx += 1\n",
    "        if bit_idx == 8:\n",
    "            result.append(byte)\n",
    "            byte = 0\n",
    "            bit_idx = 0\n",
    "[bin(x) for x in result]"
   ]
  },
  {
   "cell_type": "code",
   "execution_count": 26,
   "id": "5547cdfb-2fcf-4b0f-bab8-e80381f73a3e",
   "metadata": {},
   "outputs": [],
   "source": [
    "with open('img.bin', 'wb+') as f:\n",
    "    f.write(bytes(result))"
   ]
  },
  {
   "cell_type": "code",
   "execution_count": null,
   "id": "9810f954-9b3b-4f7e-8ccd-ce3bc9897e64",
   "metadata": {},
   "outputs": [],
   "source": []
  }
 ],
 "metadata": {
  "kernelspec": {
   "display_name": "Python 3 (ipykernel)",
   "language": "python",
   "name": "python3"
  },
  "language_info": {
   "codemirror_mode": {
    "name": "ipython",
    "version": 3
   },
   "file_extension": ".py",
   "mimetype": "text/x-python",
   "name": "python",
   "nbconvert_exporter": "python",
   "pygments_lexer": "ipython3",
   "version": "3.11.5"
  }
 },
 "nbformat": 4,
 "nbformat_minor": 5
}
