{
 "cells": [
  {
   "cell_type": "code",
   "execution_count": 10,
   "id": "5b8ff1eb-5a00-4ef3-a1a0-03ff7a8bd687",
   "metadata": {},
   "outputs": [],
   "source": [
    "from PIL import PcfFontFile"
   ]
  },
  {
   "cell_type": "code",
   "execution_count": 11,
   "id": "8188d055-1b13-4a26-b081-27523a2942ab",
   "metadata": {},
   "outputs": [],
   "source": [
    "with open(\"ProFont_r400-29.pcf\", \"rb\") as f:\n",
    "    font = PcfFontFile.PcfFontFile(f)"
   ]
  },
  {
   "cell_type": "code",
   "execution_count": 12,
   "id": "635be5d0-abe0-4c29-9a28-349db136ae0d",
   "metadata": {},
   "outputs": [
    {
     "data": {
      "image/jpeg": "[encoded data removed]",
      "image/png": "[encoded data removed]",
      "text/plain": [
       "<PIL.Image.Image image mode=1 size=160x290>"
      ]
     },
     "execution_count": 12,
     "metadata": {},
     "output_type": "execute_result"
    }
   ],
   "source": [
    "img = font.glyph[ord('f')][3]\n",
    "img.resize((img.width*10, img.height*10))"
   ]
  },
  {
   "cell_type": "code",
   "execution_count": 13,
   "id": "5ab72cf5-551a-419e-b792-89e69995fe57",
   "metadata": {},
   "outputs": [
    {
     "data": {
      "text/plain": [
       "(16, 29)"
      ]
     },
     "execution_count": 13,
     "metadata": {},
     "output_type": "execute_result"
    }
   ],
   "source": [
    "img.width, img.height"
   ]
  },
  {
   "cell_type": "code",
   "execution_count": 14,
   "id": "fd83968d-40b0-4127-81e9-6a442a8b2937",
   "metadata": {
    "tags": []
   },
   "outputs": [],
   "source": [
    "def bytes_for_char(c):\n",
    "    img = font.glyph[c][3]\n",
    "    result = []\n",
    "    for x in range(img.width):\n",
    "        byte = 0\n",
    "        i = 0\n",
    "        for y in range(img.height):\n",
    "            bit = int(img.getpixel((x,y)) != 0)\n",
    "            byte |= bit << i\n",
    "            i += 1\n",
    "            if i == 8:\n",
    "                result.append(byte)\n",
    "                byte=0\n",
    "                i = 0\n",
    "        if i != 0:\n",
    "            result.append(byte)\n",
    "    return result\n",
    "result = bytes_for_char(ord('f'))"
   ]
  },
  {
   "cell_type": "code",
   "execution_count": 15,
   "id": "d5f46c0e-cd8d-4ce9-93c1-f6414b896f32",
   "metadata": {},
   "outputs": [
    {
     "name": "stdout",
     "output_type": "stream",
     "text": [
      "................................\n",
      "................................\n",
      "..........###...................\n",
      "..........###...................\n",
      "..........###...................\n",
      ".........###############........\n",
      ".......#################........\n",
      "......##################........\n",
      "......###.###...................\n",
      ".....###..###...................\n",
      ".....###..###...................\n",
      ".....###........................\n",
      ".....###........................\n",
      "................................\n",
      "................................\n",
      "................................\n"
     ]
    }
   ],
   "source": [
    "stride = 4\n",
    "for i in range(0, len(result), stride):\n",
    "    for byte in [result[j] for j in range(i, i+stride)]:\n",
    "        for j in range(8):\n",
    "            print('#' if bool(byte & 1 << j) else '.', end='')\n",
    "    print()"
   ]
  },
  {
   "cell_type": "code",
   "execution_count": 16,
   "id": "fb859545-a4d7-4b55-9da6-78d92041bd30",
   "metadata": {},
   "outputs": [],
   "source": [
    "numbers_only = True\n",
    "if numbers_only:\n",
    "    chars = [bytes_for_char(c) for c in range(48, 58)]\n",
    "else:\n",
    "    chars = [bytes_for_char(c) for c in range(32, 128)]\n",
    "chars = [byte for char in chars for byte in char]"
   ]
  },
  {
   "cell_type": "code",
   "execution_count": 17,
   "id": "19f2984f-65a4-428a-9970-4be1c3f4e5a1",
   "metadata": {},
   "outputs": [
    {
     "data": {
      "text/plain": [
       "640"
      ]
     },
     "execution_count": 17,
     "metadata": {},
     "output_type": "execute_result"
    }
   ],
   "source": [
    "len(bytes(chars))"
   ]
  },
  {
   "cell_type": "code",
   "execution_count": 19,
   "id": "d3793335-7580-47f2-b0ac-4c7bc94735e6",
   "metadata": {},
   "outputs": [],
   "source": [
    "with open('font.raw', 'wb+') as f:\n",
    "    f.write(bytes(chars))"
   ]
  },
  {
   "cell_type": "code",
   "execution_count": 12,
   "id": "96bec5a7-5d15-4663-bfd7-124f72962ef6",
   "metadata": {},
   "outputs": [
    {
     "data": {
      "image/png": "[encoded data removed]",
      "text/plain": [
       "<PIL.Image.Image image mode=1 size=120x220>"
      ]
     },
     "execution_count": 12,
     "metadata": {},
     "output_type": "execute_result"
    }
   ],
   "source": [
    "img = font.glyph[ord('j')][3]\n",
    "img.resize((img.width*10, img.height*10))"
   ]
  },
  {
   "cell_type": "code",
   "execution_count": 13,
   "id": "60e44425-221b-41ec-83cd-ec3d900c0397",
   "metadata": {},
   "outputs": [
    {
     "data": {
      "image/png": "[encoded data removed]",
      "text/plain": [
       "<PIL.Image.Image image mode=1 size=120x220>"
      ]
     },
     "execution_count": 13,
     "metadata": {},
     "output_type": "execute_result"
    }
   ],
   "source": [
    "img = font.glyph[ord('T')][3]\n",
    "img.resize((img.width*10, img.height*10))"
   ]
  },
  {
   "cell_type": "code",
   "execution_count": 14,
   "id": "04b74c84-c196-48ca-87e4-9ba3a61c4623",
   "metadata": {},
   "outputs": [
    {
     "data": {
      "image/png": "[encoded data removed]",
      "text/plain": [
       "<PIL.Image.Image image mode=1 size=120x220>"
      ]
     },
     "execution_count": 14,
     "metadata": {},
     "output_type": "execute_result"
    }
   ],
   "source": [
    "img = font.glyph[ord('/')][3]\n",
    "img.resize((img.width*10, img.height*10))"
   ]
  },
  {
   "cell_type": "code",
   "execution_count": null,
   "id": "78308767-f34b-4bb1-8c57-52b77f502dbd",
   "metadata": {},
   "outputs": [],
   "source": []
  }
 ],
 "metadata": {
  "kernelspec": {
   "display_name": "Python 3 (ipykernel)",
   "language": "python",
   "name": "python3"
  },
  "language_info": {
   "codemirror_mode": {
    "name": "ipython",
    "version": 3
   },
   "file_extension": ".py",
   "mimetype": "text/x-python",
   "name": "python",
   "nbconvert_exporter": "python",
   "pygments_lexer": "ipython3",
   "version": "3.10.12"
  }
 },
 "nbformat": 4,
 "nbformat_minor": 5
}
